{
 "cells": [
  {
   "cell_type": "code",
   "execution_count": null,
   "metadata": {},
   "outputs": [],
   "source": [
    "from covid_simulation import * "
   ]
  },
  {
   "cell_type": "code",
   "execution_count": null,
   "metadata": {},
   "outputs": [],
   "source": [
    "def print_infection_mat(): \n",
    "    print(' ')\n",
    "    for m in range(1,5): \n",
    "        print('| ', end=' ')\n",
    "        for n in range(1,5): \n",
    "            print(infection_by_age[n]['p'][m], end=' ')\n",
    "        print(' |')\n",
    "\n",
    "def run_sim(dd): \n",
    "    print(' ')\n",
    "    print(dd)\n",
    "    G = nx.read_gpickle(os.path.join(data_dir,dd['G_filename']))\n",
    "    update_infection_table(*dd['p'])\n",
    "    print_infection_mat()\n",
    "    logState=run_simulation(G, T_max=250, verbose = False)\n",
    "    with open(os.path.join(data_dir,'G_logState{0}.p'.format(dd['id'] )), 'wb') as fp: \n",
    "        pickle.dump(logState, fp)\n",
    "    nx.write_gpickle(G,os.path.join(data_dir,'G_simulated_logState{}.p'.format(dd['id'])))\n",
    "    print('=======================================')"
   ]
  },
  {
   "cell_type": "code",
   "execution_count": null,
   "metadata": {},
   "outputs": [],
   "source": [
    "# Setup infection probability matrix for each configuration \n",
    "basic_p = 0.01\n",
    "infection_p0 = 0.1\n",
    "simulation_config=[{'id': 1, 'label':'State1 - normal', \n",
    "                    'G_filename': 'G_aged.p', \n",
    "                    'p': [basic_p, basic_p, None]}, \n",
    "\n",
    "                    {'id': 2, 'label':'State2 - age seperation - update connections', \n",
    "                    'G_filename': 'G_equi_aged.p', \n",
    "                    'p': [0.0, basic_p, None]}, \n",
    "\n",
    "                    {'id': 3, 'label':'State3 - eldery seperation', \n",
    "                    'G_filename': 'G_aged_eldery_grouped.p', \n",
    "                    'p': [basic_p, basic_p, 0.0]}, \n",
    "\n",
    "                    {'id': 4, 'label':'State4 - restric social distancing', \n",
    "                    'G_filename': 'G_aged.p', \n",
    "                    'p': [basic_p/2, basic_p, None]}, \n",
    "\n",
    "                    {'id': 5, 'label':'State5 - age seperation', \n",
    "                    'G_filename': 'G_aged.p', \n",
    "                    'p': [0.0, basic_p, None]}\n",
    "]"
   ]
  },
  {
   "cell_type": "code",
   "execution_count": null,
   "metadata": {},
   "outputs": [],
   "source": [
    "type_of_network, N  = (1,50000)\n",
    "data_dir = 'data_' + str(type_of_network)+'_'+ str(N)"
   ]
  },
  {
   "cell_type": "code",
   "execution_count": null,
   "metadata": {},
   "outputs": [],
   "source": [
    "for conf in simulation_config: \n",
    "    run_sim(conf)"
   ]
  },
  {
   "cell_type": "code",
   "execution_count": null,
   "metadata": {},
   "outputs": [],
   "source": []
  }
 ],
 "metadata": {
  "file_extension": ".py",
  "kernelspec": {
   "display_name": "env-data",
   "language": "python",
   "name": "env-data"
  },
  "language_info": {
   "codemirror_mode": {
    "name": "ipython",
    "version": 3
   },
   "file_extension": ".py",
   "mimetype": "text/x-python",
   "name": "python",
   "nbconvert_exporter": "python",
   "pygments_lexer": "ipython3",
   "version": "3.8.0"
  },
  "mimetype": "text/x-python",
  "name": "python",
  "npconvert_exporter": "python",
  "pygments_lexer": "ipython3",
  "version": 3
 },
 "nbformat": 4,
 "nbformat_minor": 4
}
